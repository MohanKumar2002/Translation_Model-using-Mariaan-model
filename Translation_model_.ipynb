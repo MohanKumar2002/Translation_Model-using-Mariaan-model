{
  "cells": [
    {
      "cell_type": "markdown",
      "metadata": {
        "id": "view-in-github",
        "colab_type": "text"
      },
      "source": [
        "<a href=\"https://colab.research.google.com/github/MohanKumar2002/Translation_Model-using-Mariaan-model/blob/master/Translation_model_.ipynb\" target=\"_parent\"><img src=\"https://colab.research.google.com/assets/colab-badge.svg\" alt=\"Open In Colab\"/></a>"
      ]
    },
    {
      "cell_type": "markdown",
      "source": [
        "Fine Tune and Save Model"
      ],
      "metadata": {
        "id": "QLlf2WoItjrO"
      }
    },
    {
      "cell_type": "markdown",
      "source": [
        "Install Libraries:"
      ],
      "metadata": {
        "id": "fkl--5YDtuNP"
      }
    },
    {
      "cell_type": "code",
      "source": [
        "!pip install transformers datasets sentencepiece"
      ],
      "metadata": {
        "colab": {
          "base_uri": "https://localhost:8080/"
        },
        "id": "tdDi91PuqGa0",
        "outputId": "31903dc6-1320-457f-d615-796e219aa6c7"
      },
      "execution_count": null,
      "outputs": [
        {
          "output_type": "stream",
          "name": "stdout",
          "text": [
            "Requirement already satisfied: transformers in /usr/local/lib/python3.10/dist-packages (4.42.4)\n",
            "Collecting datasets\n",
            "  Downloading datasets-2.20.0-py3-none-any.whl.metadata (19 kB)\n",
            "Requirement already satisfied: filelock in /usr/local/lib/python3.10/dist-packages (from transformers) (3.15.4)\n",
            "Requirement already satisfied: huggingface-hub<1.0,>=0.23.2 in /usr/local/lib/python3.10/dist-packages (from transformers) (0.23.5)\n",
            "Requirement already satisfied: numpy<2.0,>=1.17 in /usr/local/lib/python3.10/dist-packages (from transformers) (1.25.2)\n",
            "Requirement already satisfied: packaging>=20.0 in /usr/local/lib/python3.10/dist-packages (from transformers) (24.1)\n",
            "Requirement already satisfied: pyyaml>=5.1 in /usr/local/lib/python3.10/dist-packages (from transformers) (6.0.1)\n",
            "Requirement already satisfied: regex!=2019.12.17 in /usr/local/lib/python3.10/dist-packages (from transformers) (2024.5.15)\n",
            "Requirement already satisfied: requests in /usr/local/lib/python3.10/dist-packages (from transformers) (2.31.0)\n",
            "Requirement already satisfied: safetensors>=0.4.1 in /usr/local/lib/python3.10/dist-packages (from transformers) (0.4.3)\n",
            "Requirement already satisfied: tokenizers<0.20,>=0.19 in /usr/local/lib/python3.10/dist-packages (from transformers) (0.19.1)\n",
            "Requirement already satisfied: tqdm>=4.27 in /usr/local/lib/python3.10/dist-packages (from transformers) (4.66.4)\n",
            "Collecting pyarrow>=15.0.0 (from datasets)\n",
            "  Downloading pyarrow-17.0.0-cp310-cp310-manylinux_2_28_x86_64.whl.metadata (3.3 kB)\n",
            "Requirement already satisfied: pyarrow-hotfix in /usr/local/lib/python3.10/dist-packages (from datasets) (0.6)\n",
            "Collecting dill<0.3.9,>=0.3.0 (from datasets)\n",
            "  Downloading dill-0.3.8-py3-none-any.whl.metadata (10 kB)\n",
            "Requirement already satisfied: pandas in /usr/local/lib/python3.10/dist-packages (from datasets) (2.0.3)\n",
            "Collecting requests (from transformers)\n",
            "  Downloading requests-2.32.3-py3-none-any.whl.metadata (4.6 kB)\n",
            "Collecting xxhash (from datasets)\n",
            "  Downloading xxhash-3.4.1-cp310-cp310-manylinux_2_17_x86_64.manylinux2014_x86_64.whl.metadata (12 kB)\n",
            "Collecting multiprocess (from datasets)\n",
            "  Downloading multiprocess-0.70.16-py310-none-any.whl.metadata (7.2 kB)\n",
            "Collecting fsspec<=2024.5.0,>=2023.1.0 (from fsspec[http]<=2024.5.0,>=2023.1.0->datasets)\n",
            "  Downloading fsspec-2024.5.0-py3-none-any.whl.metadata (11 kB)\n",
            "Requirement already satisfied: aiohttp in /usr/local/lib/python3.10/dist-packages (from datasets) (3.9.5)\n",
            "Requirement already satisfied: aiosignal>=1.1.2 in /usr/local/lib/python3.10/dist-packages (from aiohttp->datasets) (1.3.1)\n",
            "Requirement already satisfied: attrs>=17.3.0 in /usr/local/lib/python3.10/dist-packages (from aiohttp->datasets) (23.2.0)\n",
            "Requirement already satisfied: frozenlist>=1.1.1 in /usr/local/lib/python3.10/dist-packages (from aiohttp->datasets) (1.4.1)\n",
            "Requirement already satisfied: multidict<7.0,>=4.5 in /usr/local/lib/python3.10/dist-packages (from aiohttp->datasets) (6.0.5)\n",
            "Requirement already satisfied: yarl<2.0,>=1.0 in /usr/local/lib/python3.10/dist-packages (from aiohttp->datasets) (1.9.4)\n",
            "Requirement already satisfied: async-timeout<5.0,>=4.0 in /usr/local/lib/python3.10/dist-packages (from aiohttp->datasets) (4.0.3)\n",
            "Requirement already satisfied: typing-extensions>=3.7.4.3 in /usr/local/lib/python3.10/dist-packages (from huggingface-hub<1.0,>=0.23.2->transformers) (4.12.2)\n",
            "Requirement already satisfied: charset-normalizer<4,>=2 in /usr/local/lib/python3.10/dist-packages (from requests->transformers) (3.3.2)\n",
            "Requirement already satisfied: idna<4,>=2.5 in /usr/local/lib/python3.10/dist-packages (from requests->transformers) (3.7)\n",
            "Requirement already satisfied: urllib3<3,>=1.21.1 in /usr/local/lib/python3.10/dist-packages (from requests->transformers) (2.0.7)\n",
            "Requirement already satisfied: certifi>=2017.4.17 in /usr/local/lib/python3.10/dist-packages (from requests->transformers) (2024.7.4)\n",
            "Requirement already satisfied: python-dateutil>=2.8.2 in /usr/local/lib/python3.10/dist-packages (from pandas->datasets) (2.8.2)\n",
            "Requirement already satisfied: pytz>=2020.1 in /usr/local/lib/python3.10/dist-packages (from pandas->datasets) (2024.1)\n",
            "Requirement already satisfied: tzdata>=2022.1 in /usr/local/lib/python3.10/dist-packages (from pandas->datasets) (2024.1)\n",
            "Requirement already satisfied: six>=1.5 in /usr/local/lib/python3.10/dist-packages (from python-dateutil>=2.8.2->pandas->datasets) (1.16.0)\n",
            "Downloading datasets-2.20.0-py3-none-any.whl (547 kB)\n",
            "\u001b[2K   \u001b[90m━━━━━━━━━━━━━━━━━━━━━━━━━━━━━━━━━━━━━━━━\u001b[0m \u001b[32m547.8/547.8 kB\u001b[0m \u001b[31m14.5 MB/s\u001b[0m eta \u001b[36m0:00:00\u001b[0m\n",
            "\u001b[?25hDownloading dill-0.3.8-py3-none-any.whl (116 kB)\n",
            "\u001b[2K   \u001b[90m━━━━━━━━━━━━━━━━━━━━━━━━━━━━━━━━━━━━━━━━\u001b[0m \u001b[32m116.3/116.3 kB\u001b[0m \u001b[31m8.9 MB/s\u001b[0m eta \u001b[36m0:00:00\u001b[0m\n",
            "\u001b[?25hDownloading fsspec-2024.5.0-py3-none-any.whl (316 kB)\n",
            "\u001b[2K   \u001b[90m━━━━━━━━━━━━━━━━━━━━━━━━━━━━━━━━━━━━━━━━\u001b[0m \u001b[32m316.1/316.1 kB\u001b[0m \u001b[31m18.4 MB/s\u001b[0m eta \u001b[36m0:00:00\u001b[0m\n",
            "\u001b[?25hDownloading pyarrow-17.0.0-cp310-cp310-manylinux_2_28_x86_64.whl (39.9 MB)\n",
            "\u001b[2K   \u001b[90m━━━━━━━━━━━━━━━━━━━━━━━━━━━━━━━━━━━━━━━━\u001b[0m \u001b[32m39.9/39.9 MB\u001b[0m \u001b[31m17.3 MB/s\u001b[0m eta \u001b[36m0:00:00\u001b[0m\n",
            "\u001b[?25hDownloading requests-2.32.3-py3-none-any.whl (64 kB)\n",
            "\u001b[2K   \u001b[90m━━━━━━━━━━━━━━━━━━━━━━━━━━━━━━━━━━━━━━━━\u001b[0m \u001b[32m64.9/64.9 kB\u001b[0m \u001b[31m4.6 MB/s\u001b[0m eta \u001b[36m0:00:00\u001b[0m\n",
            "\u001b[?25hDownloading multiprocess-0.70.16-py310-none-any.whl (134 kB)\n",
            "\u001b[2K   \u001b[90m━━━━━━━━━━━━━━━━━━━━━━━━━━━━━━━━━━━━━━━━\u001b[0m \u001b[32m134.8/134.8 kB\u001b[0m \u001b[31m10.9 MB/s\u001b[0m eta \u001b[36m0:00:00\u001b[0m\n",
            "\u001b[?25hDownloading xxhash-3.4.1-cp310-cp310-manylinux_2_17_x86_64.manylinux2014_x86_64.whl (194 kB)\n",
            "\u001b[2K   \u001b[90m━━━━━━━━━━━━━━━━━━━━━━━━━━━━━━━━━━━━━━━━\u001b[0m \u001b[32m194.1/194.1 kB\u001b[0m \u001b[31m16.0 MB/s\u001b[0m eta \u001b[36m0:00:00\u001b[0m\n",
            "\u001b[?25hInstalling collected packages: xxhash, requests, pyarrow, fsspec, dill, multiprocess, datasets\n",
            "  Attempting uninstall: requests\n",
            "    Found existing installation: requests 2.31.0\n",
            "    Uninstalling requests-2.31.0:\n",
            "      Successfully uninstalled requests-2.31.0\n",
            "  Attempting uninstall: pyarrow\n",
            "    Found existing installation: pyarrow 14.0.2\n",
            "    Uninstalling pyarrow-14.0.2:\n",
            "      Successfully uninstalled pyarrow-14.0.2\n",
            "  Attempting uninstall: fsspec\n",
            "    Found existing installation: fsspec 2024.6.1\n",
            "    Uninstalling fsspec-2024.6.1:\n",
            "      Successfully uninstalled fsspec-2024.6.1\n",
            "\u001b[31mERROR: pip's dependency resolver does not currently take into account all the packages that are installed. This behaviour is the source of the following dependency conflicts.\n",
            "torch 2.3.1+cu121 requires nvidia-cublas-cu12==12.1.3.1; platform_system == \"Linux\" and platform_machine == \"x86_64\", which is not installed.\n",
            "torch 2.3.1+cu121 requires nvidia-cuda-cupti-cu12==12.1.105; platform_system == \"Linux\" and platform_machine == \"x86_64\", which is not installed.\n",
            "torch 2.3.1+cu121 requires nvidia-cuda-nvrtc-cu12==12.1.105; platform_system == \"Linux\" and platform_machine == \"x86_64\", which is not installed.\n",
            "torch 2.3.1+cu121 requires nvidia-cuda-runtime-cu12==12.1.105; platform_system == \"Linux\" and platform_machine == \"x86_64\", which is not installed.\n",
            "torch 2.3.1+cu121 requires nvidia-cudnn-cu12==8.9.2.26; platform_system == \"Linux\" and platform_machine == \"x86_64\", which is not installed.\n",
            "torch 2.3.1+cu121 requires nvidia-cufft-cu12==11.0.2.54; platform_system == \"Linux\" and platform_machine == \"x86_64\", which is not installed.\n",
            "torch 2.3.1+cu121 requires nvidia-curand-cu12==10.3.2.106; platform_system == \"Linux\" and platform_machine == \"x86_64\", which is not installed.\n",
            "torch 2.3.1+cu121 requires nvidia-cusolver-cu12==11.4.5.107; platform_system == \"Linux\" and platform_machine == \"x86_64\", which is not installed.\n",
            "torch 2.3.1+cu121 requires nvidia-cusparse-cu12==12.1.0.106; platform_system == \"Linux\" and platform_machine == \"x86_64\", which is not installed.\n",
            "torch 2.3.1+cu121 requires nvidia-nccl-cu12==2.20.5; platform_system == \"Linux\" and platform_machine == \"x86_64\", which is not installed.\n",
            "torch 2.3.1+cu121 requires nvidia-nvtx-cu12==12.1.105; platform_system == \"Linux\" and platform_machine == \"x86_64\", which is not installed.\n",
            "cudf-cu12 24.4.1 requires pyarrow<15.0.0a0,>=14.0.1, but you have pyarrow 17.0.0 which is incompatible.\n",
            "gcsfs 2024.6.1 requires fsspec==2024.6.1, but you have fsspec 2024.5.0 which is incompatible.\n",
            "google-colab 1.0.0 requires requests==2.31.0, but you have requests 2.32.3 which is incompatible.\n",
            "ibis-framework 8.0.0 requires pyarrow<16,>=2, but you have pyarrow 17.0.0 which is incompatible.\u001b[0m\u001b[31m\n",
            "\u001b[0mSuccessfully installed datasets-2.20.0 dill-0.3.8 fsspec-2024.5.0 multiprocess-0.70.16 pyarrow-17.0.0 requests-2.32.3 xxhash-3.4.1\n",
            "Requirement already satisfied: sentencepiece in /usr/local/lib/python3.10/dist-packages (0.1.99)\n"
          ]
        }
      ]
    },
    {
      "cell_type": "markdown",
      "source": [
        "Load and Prepare Data:"
      ],
      "metadata": {
        "id": "MJc0pCbZt1RQ"
      }
    },
    {
      "cell_type": "code",
      "source": [
        "import pandas as pd\n",
        "\n",
        "# Adjust the path if necessary\n",
        "data_path = '/content/Translator_data.csv'\n",
        "df = pd.read_csv(data_path)\n",
        "print(df.head())\n"
      ],
      "metadata": {
        "id": "dtuL_rVhqG1a",
        "colab": {
          "base_uri": "https://localhost:8080/"
        },
        "outputId": "40a2fb02-dad3-4cf4-c84f-7e706cbd9c09"
      },
      "execution_count": null,
      "outputs": [
        {
          "output_type": "stream",
          "name": "stdout",
          "text": [
            "  English Sentence           Hindi          Bengali             Telugu  \\\n",
            "0    Hello, world!  ?????? ??????!   ??????, ?????!      ???, ???????!   \n",
            "1     How are you?    ?? ???? ????  ???? ???? ?????  ???? ??? ????????   \n",
            "2     Good morning      ??? ??????         ????????            ???????   \n",
            "3        Thank you         ???????          ???????         ??????????   \n",
            "4              Yes             ???            ?????              ?????   \n",
            "\n",
            "         Marathi                           Tamil        Gujarati  \\\n",
            "0   ???????, ??!                 ???????, ?????!  ??????, ?????!   \n",
            "1  ??? ??? ?????  ??????? ?????? ???????????????     ??? ??? ???   \n",
            "2     ??? ??????                    ???? ???????        ????????   \n",
            "3        ???????                           ?????            ????   \n",
            "4            ???                             ???              ??   \n",
            "\n",
            "           Kannada                    Malayalam                Odia  \\\n",
            "0     ???, ??????!                   ???, ????!        ????, ?????!   \n",
            "1  ???? ??????????  ??????? ?????? ????????????  ??? ?????? ???????   \n",
            "2           ??????                    ?????????            ??? ????   \n",
            "3       ??????????                        ?????             ???????   \n",
            "4             ????                          ???                  ??   \n",
            "\n",
            "                Punjabi  \n",
            "0  ?? ???? ????, ?????!  \n",
            "1       ????? ????? ???  \n",
            "2          ?? ???? ????  \n",
            "3                ??????  \n",
            "4                   ???  \n"
          ]
        }
      ]
    },
    {
      "cell_type": "markdown",
      "source": [],
      "metadata": {
        "id": "e-y08ud6t4_d"
      }
    },
    {
      "cell_type": "code",
      "source": [
        "import json\n",
        "\n",
        "data = []\n",
        "for index, row in df.iterrows():\n",
        "    for lang in df.columns[1:]:\n",
        "        data.append({\"src\": row[\"English Sentence\"], \"tgt\": row[lang], \"src_lang\": \"en\", \"tgt_lang\": lang})\n",
        "\n",
        "with open('/content/translator_data.jsonl', 'w') as outfile:\n",
        "    for entry in data:\n",
        "        json.dump(entry, outfile)\n",
        "        outfile.write('\\n')\n"
      ],
      "metadata": {
        "id": "SpmlNXv6qG4C"
      },
      "execution_count": null,
      "outputs": []
    },
    {
      "cell_type": "markdown",
      "source": [
        "Load and Tokenize Data:"
      ],
      "metadata": {
        "id": "3RV_rypHt8d-"
      }
    },
    {
      "cell_type": "code",
      "source": [
        "from datasets import load_dataset, Dataset\n",
        "#!pip install transformers\n",
        "from transformers import MarianMTModel, MarianTokenizer\n",
        "\n",
        "dataset = load_dataset('json', data_files='/content/translator_data.jsonl', split='train')\n",
        "\n",
        "def preprocess_function(examples):\n",
        "    src_texts = examples['src']\n",
        "    tgt_texts = examples['tgt']\n",
        "    model_inputs = tokenizer(src_texts, max_length=128, truncation=True, padding=\"max_length\") # Added padding=\"max_length\" to ensure all sequences are the same length\n",
        "    with tokenizer.as_target_tokenizer():\n",
        "        labels = tokenizer(tgt_texts, max_length=128, truncation=True, padding=\"max_length\") # Added padding=\"max_length\" to ensure all sequences are the same length\n",
        "    model_inputs['labels'] = labels['input_ids']\n",
        "    return model_inputs\n",
        "\n",
        "tokenizer = MarianTokenizer.from_pretrained('Helsinki-NLP/opus-mt-en-ROMANCE') #The MarianTokenizer class is part of the transformers library\n",
        "tokenized_dataset = dataset.map(preprocess_function, batched=True)"
      ],
      "metadata": {
        "id": "vB9CLGT4qG6b",
        "colab": {
          "base_uri": "https://localhost:8080/",
          "height": 138,
          "referenced_widgets": [
            "d4b1d314703941da9a4d1157bcf3c35e",
            "c8948d7a5a3e46bf890efc8178fb646c",
            "be7f11e604b04f199459e5fbb6f19373",
            "caeeaa5a90b04c83b1166bc9f0b5cc2d",
            "57df13f331c84e39bc2116f0c758f722",
            "c049b55871f54400befa480b94b69b80",
            "180fbd007ee140099e8037e5ea35a1f7",
            "4850e1f793304501af83c7d4b60d1606",
            "950b32f9dac74e4d87629c0d8fc7ed50",
            "ef5d8679e0574739a9b4860c359c6895",
            "d0c9a6f7dd8f45cf9eb73e8487f64156"
          ]
        },
        "outputId": "af1a78bf-a4ff-4965-de01-4754fc2f0599"
      },
      "execution_count": null,
      "outputs": [
        {
          "output_type": "stream",
          "name": "stderr",
          "text": [
            "/usr/local/lib/python3.10/dist-packages/transformers/models/marian/tokenization_marian.py:175: UserWarning: Recommended: pip install sacremoses.\n",
            "  warnings.warn(\"Recommended: pip install sacremoses.\")\n"
          ]
        },
        {
          "output_type": "display_data",
          "data": {
            "text/plain": [
              "Map:   0%|          | 0/400 [00:00<?, ? examples/s]"
            ],
            "application/vnd.jupyter.widget-view+json": {
              "version_major": 2,
              "version_minor": 0,
              "model_id": "d4b1d314703941da9a4d1157bcf3c35e"
            }
          },
          "metadata": {}
        },
        {
          "output_type": "stream",
          "name": "stderr",
          "text": [
            "/usr/local/lib/python3.10/dist-packages/transformers/tokenization_utils_base.py:4016: UserWarning: `as_target_tokenizer` is deprecated and will be removed in v5 of Transformers. You can tokenize your labels by using the argument `text_target` of the regular `__call__` method (either in the same call as your input texts if you use the same keyword arguments, or in a separate call.\n",
            "  warnings.warn(\n"
          ]
        }
      ]
    },
    {
      "cell_type": "markdown",
      "source": [
        "Fine-Tune the Model:"
      ],
      "metadata": {
        "id": "M7yz0upot_vn"
      }
    },
    {
      "cell_type": "code",
      "source": [
        "from transformers import MarianMTModel, Trainer, TrainingArguments\n",
        "\n",
        "model = MarianMTModel.from_pretrained('Helsinki-NLP/opus-mt-en-ROMANCE')\n",
        "\n",
        "training_args = TrainingArguments(\n",
        "    output_dir='./results',\n",
        "    num_train_epochs=5,\n",
        "    per_device_train_batch_size=4,\n",
        "    save_steps=10_000,\n",
        "    save_total_limit=2,\n",
        "    logging_dir='./logs',\n",
        "    logging_steps=200,\n",
        ")\n",
        "\n",
        "trainer = Trainer(\n",
        "    model=model,\n",
        "    args=training_args,\n",
        "    train_dataset=tokenized_dataset,\n",
        ")\n",
        "\n",
        "trainer.train()\n"
      ],
      "metadata": {
        "id": "R1rS-_HcqG9V",
        "colab": {
          "base_uri": "https://localhost:8080/",
          "height": 245
        },
        "outputId": "bb6f4fe4-3328-4c2c-db3f-201ebf3b9218"
      },
      "execution_count": null,
      "outputs": [
        {
          "output_type": "display_data",
          "data": {
            "text/plain": [
              "<IPython.core.display.HTML object>"
            ],
            "text/html": [
              "\n",
              "    <div>\n",
              "      \n",
              "      <progress value='500' max='500' style='width:300px; height:20px; vertical-align: middle;'></progress>\n",
              "      [500/500 57:45, Epoch 5/5]\n",
              "    </div>\n",
              "    <table border=\"1\" class=\"dataframe\">\n",
              "  <thead>\n",
              " <tr style=\"text-align: left;\">\n",
              "      <th>Step</th>\n",
              "      <th>Training Loss</th>\n",
              "    </tr>\n",
              "  </thead>\n",
              "  <tbody>\n",
              "    <tr>\n",
              "      <td>200</td>\n",
              "      <td>0.105400</td>\n",
              "    </tr>\n",
              "    <tr>\n",
              "      <td>400</td>\n",
              "      <td>0.054300</td>\n",
              "    </tr>\n",
              "  </tbody>\n",
              "</table><p>"
            ]
          },
          "metadata": {}
        },
        {
          "output_type": "stream",
          "name": "stderr",
          "text": [
            "Some non-default generation parameters are set in the model config. These should go into a GenerationConfig file (https://huggingface.co/docs/transformers/generation_strategies#save-a-custom-decoding-strategy-with-your-model) instead. This warning will be raised to an exception in v4.41.\n",
            "Non-default generation parameters: {'max_length': 512, 'num_beams': 4, 'bad_words_ids': [[65000]], 'forced_eos_token_id': 0}\n"
          ]
        },
        {
          "output_type": "execute_result",
          "data": {
            "text/plain": [
              "TrainOutput(global_step=500, training_loss=0.07402849006652833, metrics={'train_runtime': 3475.1453, 'train_samples_per_second': 0.576, 'train_steps_per_second': 0.144, 'total_flos': 67796729856000.0, 'train_loss': 0.07402849006652833, 'epoch': 5.0})"
            ]
          },
          "metadata": {},
          "execution_count": 8
        }
      ]
    },
    {
      "cell_type": "markdown",
      "source": [
        "Save the Fine-Tuned Model:"
      ],
      "metadata": {
        "id": "PJCt15H4uOhS"
      }
    },
    {
      "cell_type": "code",
      "source": [
        "model.save_pretrained('/content/translator_model')\n",
        "tokenizer.save_pretrained('/content/translator_model')\n"
      ],
      "metadata": {
        "id": "cZnV6GteqHAS",
        "colab": {
          "base_uri": "https://localhost:8080/"
        },
        "outputId": "23dd7eb2-6923-4430-8ca9-b1de8193d0fe"
      },
      "execution_count": null,
      "outputs": [
        {
          "output_type": "stream",
          "name": "stderr",
          "text": [
            "Some non-default generation parameters are set in the model config. These should go into a GenerationConfig file (https://huggingface.co/docs/transformers/generation_strategies#save-a-custom-decoding-strategy-with-your-model) instead. This warning will be raised to an exception in v4.41.\n",
            "Non-default generation parameters: {'max_length': 512, 'num_beams': 4, 'bad_words_ids': [[65000]], 'forced_eos_token_id': 0}\n"
          ]
        },
        {
          "output_type": "execute_result",
          "data": {
            "text/plain": [
              "('/content/translator_model/tokenizer_config.json',\n",
              " '/content/translator_model/special_tokens_map.json',\n",
              " '/content/translator_model/vocab.json',\n",
              " '/content/translator_model/source.spm',\n",
              " '/content/translator_model/target.spm',\n",
              " '/content/translator_model/added_tokens.json')"
            ]
          },
          "metadata": {},
          "execution_count": 9
        }
      ]
    },
    {
      "cell_type": "markdown",
      "source": [
        "Steps to Create a Copycat Interface of Google Translator"
      ],
      "metadata": {
        "id": "TIa1EAYhtT-3"
      }
    },
    {
      "cell_type": "markdown",
      "source": [
        "Install Required Libraries:"
      ],
      "metadata": {
        "id": "m_ka8BzEuZgK"
      }
    },
    {
      "cell_type": "code",
      "source": [
        "!pip install streamlit pyngrok\n"
      ],
      "metadata": {
        "colab": {
          "base_uri": "https://localhost:8080/"
        },
        "id": "07cRR0YdtTj_",
        "outputId": "41a42370-7ca2-41a8-9f26-4fa4d42cefc4"
      },
      "execution_count": null,
      "outputs": [
        {
          "output_type": "stream",
          "name": "stdout",
          "text": [
            "Collecting streamlit\n",
            "  Downloading streamlit-1.37.0-py2.py3-none-any.whl.metadata (8.5 kB)\n",
            "Collecting pyngrok\n",
            "  Downloading pyngrok-7.2.0-py3-none-any.whl.metadata (7.4 kB)\n",
            "Requirement already satisfied: altair<6,>=4.0 in /usr/local/lib/python3.10/dist-packages (from streamlit) (4.2.2)\n",
            "Requirement already satisfied: blinker<2,>=1.0.0 in /usr/lib/python3/dist-packages (from streamlit) (1.4)\n",
            "Requirement already satisfied: cachetools<6,>=4.0 in /usr/local/lib/python3.10/dist-packages (from streamlit) (5.4.0)\n",
            "Requirement already satisfied: click<9,>=7.0 in /usr/local/lib/python3.10/dist-packages (from streamlit) (8.1.7)\n",
            "Requirement already satisfied: numpy<3,>=1.20 in /usr/local/lib/python3.10/dist-packages (from streamlit) (1.25.2)\n",
            "Requirement already satisfied: packaging<25,>=20 in /usr/local/lib/python3.10/dist-packages (from streamlit) (24.1)\n",
            "Requirement already satisfied: pandas<3,>=1.3.0 in /usr/local/lib/python3.10/dist-packages (from streamlit) (2.0.3)\n",
            "Requirement already satisfied: pillow<11,>=7.1.0 in /usr/local/lib/python3.10/dist-packages (from streamlit) (9.4.0)\n",
            "Requirement already satisfied: protobuf<6,>=3.20 in /usr/local/lib/python3.10/dist-packages (from streamlit) (3.20.3)\n",
            "Requirement already satisfied: pyarrow>=7.0 in /usr/local/lib/python3.10/dist-packages (from streamlit) (17.0.0)\n",
            "Requirement already satisfied: requests<3,>=2.27 in /usr/local/lib/python3.10/dist-packages (from streamlit) (2.32.3)\n",
            "Requirement already satisfied: rich<14,>=10.14.0 in /usr/local/lib/python3.10/dist-packages (from streamlit) (13.7.1)\n",
            "Requirement already satisfied: tenacity<9,>=8.1.0 in /usr/local/lib/python3.10/dist-packages (from streamlit) (8.5.0)\n",
            "Requirement already satisfied: toml<2,>=0.10.1 in /usr/local/lib/python3.10/dist-packages (from streamlit) (0.10.2)\n",
            "Requirement already satisfied: typing-extensions<5,>=4.3.0 in /usr/local/lib/python3.10/dist-packages (from streamlit) (4.12.2)\n",
            "Collecting gitpython!=3.1.19,<4,>=3.0.7 (from streamlit)\n",
            "  Downloading GitPython-3.1.43-py3-none-any.whl.metadata (13 kB)\n",
            "Collecting pydeck<1,>=0.8.0b4 (from streamlit)\n",
            "  Downloading pydeck-0.9.1-py2.py3-none-any.whl.metadata (4.1 kB)\n",
            "Requirement already satisfied: tornado<7,>=6.0.3 in /usr/local/lib/python3.10/dist-packages (from streamlit) (6.3.3)\n",
            "Collecting watchdog<5,>=2.1.5 (from streamlit)\n",
            "  Downloading watchdog-4.0.1-py3-none-manylinux2014_x86_64.whl.metadata (37 kB)\n",
            "Requirement already satisfied: PyYAML>=5.1 in /usr/local/lib/python3.10/dist-packages (from pyngrok) (6.0.1)\n",
            "Requirement already satisfied: entrypoints in /usr/local/lib/python3.10/dist-packages (from altair<6,>=4.0->streamlit) (0.4)\n",
            "Requirement already satisfied: jinja2 in /usr/local/lib/python3.10/dist-packages (from altair<6,>=4.0->streamlit) (3.1.4)\n",
            "Requirement already satisfied: jsonschema>=3.0 in /usr/local/lib/python3.10/dist-packages (from altair<6,>=4.0->streamlit) (4.23.0)\n",
            "Requirement already satisfied: toolz in /usr/local/lib/python3.10/dist-packages (from altair<6,>=4.0->streamlit) (0.12.1)\n",
            "Collecting gitdb<5,>=4.0.1 (from gitpython!=3.1.19,<4,>=3.0.7->streamlit)\n",
            "  Downloading gitdb-4.0.11-py3-none-any.whl.metadata (1.2 kB)\n",
            "Requirement already satisfied: python-dateutil>=2.8.2 in /usr/local/lib/python3.10/dist-packages (from pandas<3,>=1.3.0->streamlit) (2.8.2)\n",
            "Requirement already satisfied: pytz>=2020.1 in /usr/local/lib/python3.10/dist-packages (from pandas<3,>=1.3.0->streamlit) (2024.1)\n",
            "Requirement already satisfied: tzdata>=2022.1 in /usr/local/lib/python3.10/dist-packages (from pandas<3,>=1.3.0->streamlit) (2024.1)\n",
            "Requirement already satisfied: charset-normalizer<4,>=2 in /usr/local/lib/python3.10/dist-packages (from requests<3,>=2.27->streamlit) (3.3.2)\n",
            "Requirement already satisfied: idna<4,>=2.5 in /usr/local/lib/python3.10/dist-packages (from requests<3,>=2.27->streamlit) (3.7)\n",
            "Requirement already satisfied: urllib3<3,>=1.21.1 in /usr/local/lib/python3.10/dist-packages (from requests<3,>=2.27->streamlit) (2.0.7)\n",
            "Requirement already satisfied: certifi>=2017.4.17 in /usr/local/lib/python3.10/dist-packages (from requests<3,>=2.27->streamlit) (2024.7.4)\n",
            "Requirement already satisfied: markdown-it-py>=2.2.0 in /usr/local/lib/python3.10/dist-packages (from rich<14,>=10.14.0->streamlit) (3.0.0)\n",
            "Requirement already satisfied: pygments<3.0.0,>=2.13.0 in /usr/local/lib/python3.10/dist-packages (from rich<14,>=10.14.0->streamlit) (2.16.1)\n",
            "Collecting smmap<6,>=3.0.1 (from gitdb<5,>=4.0.1->gitpython!=3.1.19,<4,>=3.0.7->streamlit)\n",
            "  Downloading smmap-5.0.1-py3-none-any.whl.metadata (4.3 kB)\n",
            "Requirement already satisfied: MarkupSafe>=2.0 in /usr/local/lib/python3.10/dist-packages (from jinja2->altair<6,>=4.0->streamlit) (2.1.5)\n",
            "Requirement already satisfied: attrs>=22.2.0 in /usr/local/lib/python3.10/dist-packages (from jsonschema>=3.0->altair<6,>=4.0->streamlit) (23.2.0)\n",
            "Requirement already satisfied: jsonschema-specifications>=2023.03.6 in /usr/local/lib/python3.10/dist-packages (from jsonschema>=3.0->altair<6,>=4.0->streamlit) (2023.12.1)\n",
            "Requirement already satisfied: referencing>=0.28.4 in /usr/local/lib/python3.10/dist-packages (from jsonschema>=3.0->altair<6,>=4.0->streamlit) (0.35.1)\n",
            "Requirement already satisfied: rpds-py>=0.7.1 in /usr/local/lib/python3.10/dist-packages (from jsonschema>=3.0->altair<6,>=4.0->streamlit) (0.19.0)\n",
            "Requirement already satisfied: mdurl~=0.1 in /usr/local/lib/python3.10/dist-packages (from markdown-it-py>=2.2.0->rich<14,>=10.14.0->streamlit) (0.1.2)\n",
            "Requirement already satisfied: six>=1.5 in /usr/local/lib/python3.10/dist-packages (from python-dateutil>=2.8.2->pandas<3,>=1.3.0->streamlit) (1.16.0)\n",
            "Downloading streamlit-1.37.0-py2.py3-none-any.whl (8.7 MB)\n",
            "\u001b[2K   \u001b[90m━━━━━━━━━━━━━━━━━━━━━━━━━━━━━━━━━━━━━━━━\u001b[0m \u001b[32m8.7/8.7 MB\u001b[0m \u001b[31m61.5 MB/s\u001b[0m eta \u001b[36m0:00:00\u001b[0m\n",
            "\u001b[?25hDownloading pyngrok-7.2.0-py3-none-any.whl (22 kB)\n",
            "Downloading GitPython-3.1.43-py3-none-any.whl (207 kB)\n",
            "\u001b[2K   \u001b[90m━━━━━━━━━━━━━━━━━━━━━━━━━━━━━━━━━━━━━━━━\u001b[0m \u001b[32m207.3/207.3 kB\u001b[0m \u001b[31m14.0 MB/s\u001b[0m eta \u001b[36m0:00:00\u001b[0m\n",
            "\u001b[?25hDownloading pydeck-0.9.1-py2.py3-none-any.whl (6.9 MB)\n",
            "\u001b[2K   \u001b[90m━━━━━━━━━━━━━━━━━━━━━━━━━━━━━━━━━━━━━━━━\u001b[0m \u001b[32m6.9/6.9 MB\u001b[0m \u001b[31m53.8 MB/s\u001b[0m eta \u001b[36m0:00:00\u001b[0m\n",
            "\u001b[?25hDownloading watchdog-4.0.1-py3-none-manylinux2014_x86_64.whl (83 kB)\n",
            "\u001b[2K   \u001b[90m━━━━━━━━━━━━━━━━━━━━━━━━━━━━━━━━━━━━━━━━\u001b[0m \u001b[32m83.0/83.0 kB\u001b[0m \u001b[31m6.7 MB/s\u001b[0m eta \u001b[36m0:00:00\u001b[0m\n",
            "\u001b[?25hDownloading gitdb-4.0.11-py3-none-any.whl (62 kB)\n",
            "\u001b[2K   \u001b[90m━━━━━━━━━━━━━━━━━━━━━━━━━━━━━━━━━━━━━━━━\u001b[0m \u001b[32m62.7/62.7 kB\u001b[0m \u001b[31m5.1 MB/s\u001b[0m eta \u001b[36m0:00:00\u001b[0m\n",
            "\u001b[?25hDownloading smmap-5.0.1-py3-none-any.whl (24 kB)\n",
            "Installing collected packages: watchdog, smmap, pyngrok, pydeck, gitdb, gitpython, streamlit\n",
            "Successfully installed gitdb-4.0.11 gitpython-3.1.43 pydeck-0.9.1 pyngrok-7.2.0 smmap-5.0.1 streamlit-1.37.0 watchdog-4.0.1\n"
          ]
        }
      ]
    },
    {
      "cell_type": "markdown",
      "source": [
        "Create the Streamlit App Script:"
      ],
      "metadata": {
        "id": "XBuOFzN4ucak"
      }
    },
    {
      "cell_type": "code",
      "source": [
        "%%writefile app.py\n",
        "import streamlit as st\n",
        "from transformers import MarianMTModel, MarianTokenizer\n",
        "\n",
        "# Load the model and tokenizer\n",
        "model_name = 'Helsinki-NLP/opus-mt-en-ROMANCE'\n",
        "model = MarianMTModel.from_pretrained('/content/drive/MyDrive/translator_model')\n",
        "tokenizer = MarianTokenizer.from_pretrained('/content/drive/MyDrive/translator_model')\n",
        "\n",
        "# Streamlit interface\n",
        "st.title(\"Copycat Google Translator\")\n",
        "\n",
        "src_text = st.text_area(\"Enter text in English\", \"\")\n",
        "if st.button(\"Translate\"):\n",
        "    if src_text:\n",
        "        inputs = tokenizer(src_text, return_tensors=\"pt\", padding=True)\n",
        "        translated = model.generate(**inputs)\n",
        "        tgt_text = tokenizer.decode(translated[0], skip_special_tokens=True)\n",
        "        st.text_area(\"Translated text\", tgt_text)\n",
        "    else:\n",
        "        st.warning(\"Please enter text to translate.\")\n"
      ],
      "metadata": {
        "colab": {
          "base_uri": "https://localhost:8080/"
        },
        "id": "a3UJuM8gtaJ_",
        "outputId": "54ed9699-935a-45bb-bf92-df9115d25757"
      },
      "execution_count": null,
      "outputs": [
        {
          "output_type": "stream",
          "name": "stdout",
          "text": [
            "Writing app.py\n"
          ]
        }
      ]
    },
    {
      "cell_type": "markdown",
      "source": [
        "Run the Streamlit App:"
      ],
      "metadata": {
        "id": "Pwe4N9mIufbx"
      }
    },
    {
      "cell_type": "code",
      "source": [
        "from pyngrok import ngrok\n",
        "\n",
        "# Run the Streamlit app\n",
        "!streamlit run app.py &\n",
        "\n",
        "# Create a public URL\n",
        "public_url = ngrok.connect(port='8501')\n",
        "print(f\"Streamlit app is live at: {public_url}\")\n"
      ],
      "metadata": {
        "id": "ufzYIVsqtclw"
      },
      "execution_count": null,
      "outputs": []
    },
    {
      "cell_type": "markdown",
      "source": [
        "Testing"
      ],
      "metadata": {
        "id": "kzta8r9RIO3T"
      }
    },
    {
      "cell_type": "code",
      "source": [
        "from transformers import MarianMTModel, MarianTokenizer\n",
        "\n",
        "# Load the model and tokenizer\n",
        "model_path = '/content/translator_model'\n",
        "model = MarianMTModel.from_pretrained(model_path)\n",
        "tokenizer = MarianTokenizer.from_pretrained(model_path)\n",
        "\n",
        "def translate(text, target_lang):\n",
        "    # Prepare the inputs\n",
        "    inputs = tokenizer(text, return_tensors=\"pt\", padding=True, truncation=True)\n",
        "\n",
        "    # Generate translation\n",
        "    translated = model.generate(**inputs)\n",
        "\n",
        "    # Decode the translated text\n",
        "    tgt_text = tokenizer.decode(translated[0], skip_special_tokens=True)\n",
        "    return tgt_text\n",
        "\n",
        "# Example sentences to translate\n",
        "sentences = [\n",
        "    \"Can you help me?\",\n",
        "    \"I am lost\",\n",
        "    \"Where is the nearest hospital?\",\n",
        "    \"Where is the train station?\",\n",
        "    \"Is it far?\",\n",
        "    \"I don't know\",\n",
        "    \"Can I have some water?\",\n",
        "    \"Can you show me the way?\",\n",
        "    \"Where is the nearest ATM?\",\n",
        "    \"Do you speak English?\",\n",
        "    \"Where is the bus stop?\",\n",
        "    \"I am sorry to hear that\"\n",
        "]\n",
        "\n",
        "# Languages corresponding to columns in the CSV\n",
        "languages = [\n",
        "    'hi', 'bn', 'te', 'mr', 'ta', 'gu', 'ml', 'kn', 'ml', 'or', 'pa'\n",
        "]\n",
        "\n",
        "# Test translations\n",
        "for lang in languages:\n",
        "    print(f\"\\nTranslating to language code: {lang}\")\n",
        "    for sentence in sentences:\n",
        "        translated_sentence = translate(sentence, lang)\n",
        "        print(f\"{sentence} -> {translated_sentence}\")\n"
      ],
      "metadata": {
        "colab": {
          "base_uri": "https://localhost:8080/"
        },
        "id": "k6YZpmXxMbog",
        "outputId": "13c63f95-485a-4c09-b7e0-f00ec5d63de1"
      },
      "execution_count": null,
      "outputs": [
        {
          "metadata": {
            "tags": null
          },
          "name": "stderr",
          "output_type": "stream",
          "text": [
            "/usr/local/lib/python3.10/dist-packages/transformers/models/marian/tokenization_marian.py:175: UserWarning: Recommended: pip install sacremoses.\n",
            "  warnings.warn(\"Recommended: pip install sacremoses.\")\n"
          ]
        },
        {
          "output_type": "stream",
          "name": "stdout",
          "text": [
            "\n",
            "Translating to language code: hi\n",
            "Can you help me? -> ????????????????????????\n",
            "I am lost -> ????????????????????????????\n",
            "Where is the nearest hospital? -> ????????????????????????\n",
            "Where is the train station? -> ?????????????????????\n",
            "Is it far? -> ??????????\n",
            "I don't know -> ??????????????\n",
            "Can I have some water? -> ???????????????????????????????????????????????????\n",
            "Can you show me the way? -> ???????????????????????????????????????????????????????\n",
            "Where is the nearest ATM? -> ??????????????????????\n",
            "Do you speak English? -> ????????????????????????????????????????????????????????????????\n",
            "Where is the bus stop? -> ??????????????????\n",
            "I am sorry to hear that -> ????????????????????????????\n",
            "\n",
            "Translating to language code: bn\n",
            "Can you help me? -> ????????????????????????\n",
            "I am lost -> ????????????????????????????\n",
            "Where is the nearest hospital? -> ????????????????????????\n",
            "Where is the train station? -> ?????????????????????\n",
            "Is it far? -> ??????????\n",
            "I don't know -> ??????????????\n",
            "Can I have some water? -> ???????????????????????????????????????????????????\n",
            "Can you show me the way? -> ???????????????????????????????????????????????????????\n",
            "Where is the nearest ATM? -> ??????????????????????\n",
            "Do you speak English? -> ????????????????????????????????????????????????????????????????\n",
            "Where is the bus stop? -> ??????????????????\n",
            "I am sorry to hear that -> ????????????????????????????\n",
            "\n",
            "Translating to language code: te\n",
            "Can you help me? -> ????????????????????????\n",
            "I am lost -> ????????????????????????????\n",
            "Where is the nearest hospital? -> ????????????????????????\n",
            "Where is the train station? -> ?????????????????????\n",
            "Is it far? -> ??????????\n",
            "I don't know -> ??????????????\n",
            "Can I have some water? -> ???????????????????????????????????????????????????\n",
            "Can you show me the way? -> ???????????????????????????????????????????????????????\n",
            "Where is the nearest ATM? -> ??????????????????????\n",
            "Do you speak English? -> ????????????????????????????????????????????????????????????????\n",
            "Where is the bus stop? -> ??????????????????\n",
            "I am sorry to hear that -> ????????????????????????????\n",
            "\n",
            "Translating to language code: mr\n",
            "Can you help me? -> ????????????????????????\n",
            "I am lost -> ????????????????????????????\n",
            "Where is the nearest hospital? -> ????????????????????????\n",
            "Where is the train station? -> ?????????????????????\n",
            "Is it far? -> ??????????\n",
            "I don't know -> ??????????????\n",
            "Can I have some water? -> ???????????????????????????????????????????????????\n",
            "Can you show me the way? -> ???????????????????????????????????????????????????????\n",
            "Where is the nearest ATM? -> ??????????????????????\n",
            "Do you speak English? -> ????????????????????????????????????????????????????????????????\n",
            "Where is the bus stop? -> ??????????????????\n",
            "I am sorry to hear that -> ????????????????????????????\n",
            "\n",
            "Translating to language code: ta\n",
            "Can you help me? -> ????????????????????????\n",
            "I am lost -> ????????????????????????????\n",
            "Where is the nearest hospital? -> ????????????????????????\n",
            "Where is the train station? -> ?????????????????????\n",
            "Is it far? -> ??????????\n",
            "I don't know -> ??????????????\n",
            "Can I have some water? -> ???????????????????????????????????????????????????\n",
            "Can you show me the way? -> ???????????????????????????????????????????????????????\n",
            "Where is the nearest ATM? -> ??????????????????????\n",
            "Do you speak English? -> ????????????????????????????????????????????????????????????????\n",
            "Where is the bus stop? -> ??????????????????\n",
            "I am sorry to hear that -> ????????????????????????????\n",
            "\n",
            "Translating to language code: gu\n",
            "Can you help me? -> ????????????????????????\n",
            "I am lost -> ????????????????????????????\n",
            "Where is the nearest hospital? -> ????????????????????????\n",
            "Where is the train station? -> ?????????????????????\n",
            "Is it far? -> ??????????\n",
            "I don't know -> ??????????????\n",
            "Can I have some water? -> ???????????????????????????????????????????????????\n",
            "Can you show me the way? -> ???????????????????????????????????????????????????????\n",
            "Where is the nearest ATM? -> ??????????????????????\n",
            "Do you speak English? -> ????????????????????????????????????????????????????????????????\n",
            "Where is the bus stop? -> ??????????????????\n",
            "I am sorry to hear that -> ????????????????????????????\n",
            "\n",
            "Translating to language code: ml\n",
            "Can you help me? -> ????????????????????????\n",
            "I am lost -> ????????????????????????????\n",
            "Where is the nearest hospital? -> ????????????????????????\n",
            "Where is the train station? -> ?????????????????????\n",
            "Is it far? -> ??????????\n",
            "I don't know -> ??????????????\n",
            "Can I have some water? -> ???????????????????????????????????????????????????\n",
            "Can you show me the way? -> ???????????????????????????????????????????????????????\n",
            "Where is the nearest ATM? -> ??????????????????????\n",
            "Do you speak English? -> ????????????????????????????????????????????????????????????????\n",
            "Where is the bus stop? -> ??????????????????\n",
            "I am sorry to hear that -> ????????????????????????????\n",
            "\n",
            "Translating to language code: kn\n",
            "Can you help me? -> ????????????????????????\n",
            "I am lost -> ????????????????????????????\n",
            "Where is the nearest hospital? -> ????????????????????????\n",
            "Where is the train station? -> ?????????????????????\n",
            "Is it far? -> ??????????\n",
            "I don't know -> ??????????????\n",
            "Can I have some water? -> ???????????????????????????????????????????????????\n",
            "Can you show me the way? -> ???????????????????????????????????????????????????????\n",
            "Where is the nearest ATM? -> ??????????????????????\n",
            "Do you speak English? -> ????????????????????????????????????????????????????????????????\n",
            "Where is the bus stop? -> ??????????????????\n",
            "I am sorry to hear that -> ????????????????????????????\n",
            "\n",
            "Translating to language code: ml\n",
            "Can you help me? -> ????????????????????????\n",
            "I am lost -> ????????????????????????????\n",
            "Where is the nearest hospital? -> ????????????????????????\n",
            "Where is the train station? -> ?????????????????????\n",
            "Is it far? -> ??????????\n",
            "I don't know -> ??????????????\n",
            "Can I have some water? -> ???????????????????????????????????????????????????\n",
            "Can you show me the way? -> ???????????????????????????????????????????????????????\n",
            "Where is the nearest ATM? -> ??????????????????????\n",
            "Do you speak English? -> ????????????????????????????????????????????????????????????????\n",
            "Where is the bus stop? -> ??????????????????\n",
            "I am sorry to hear that -> ????????????????????????????\n",
            "\n",
            "Translating to language code: or\n",
            "Can you help me? -> ????????????????????????\n",
            "I am lost -> ????????????????????????????\n",
            "Where is the nearest hospital? -> ????????????????????????\n",
            "Where is the train station? -> ?????????????????????\n",
            "Is it far? -> ??????????\n",
            "I don't know -> ??????????????\n",
            "Can I have some water? -> ???????????????????????????????????????????????????\n",
            "Can you show me the way? -> ???????????????????????????????????????????????????????\n",
            "Where is the nearest ATM? -> ??????????????????????\n",
            "Do you speak English? -> ????????????????????????????????????????????????????????????????\n",
            "Where is the bus stop? -> ??????????????????\n",
            "I am sorry to hear that -> ????????????????????????????\n",
            "\n",
            "Translating to language code: pa\n",
            "Can you help me? -> ????????????????????????\n",
            "I am lost -> ????????????????????????????\n",
            "Where is the nearest hospital? -> ????????????????????????\n",
            "Where is the train station? -> ?????????????????????\n",
            "Is it far? -> ??????????\n",
            "I don't know -> ??????????????\n",
            "Can I have some water? -> ???????????????????????????????????????????????????\n",
            "Can you show me the way? -> ???????????????????????????????????????????????????????\n",
            "Where is the nearest ATM? -> ??????????????????????\n",
            "Do you speak English? -> ????????????????????????????????????????????????????????????????\n",
            "Where is the bus stop? -> ??????????????????\n",
            "I am sorry to hear that -> ????????????????????????????\n"
          ]
        }
      ]
    },
    {
      "cell_type": "markdown",
      "source": [
        "Another way"
      ],
      "metadata": {
        "id": "TjH2S3xBN18f"
      }
    },
    {
      "cell_type": "code",
      "source": [
        "from transformers import MarianMTModel, MarianTokenizer\n",
        "\n",
        "# Load the model and tokenizer\n",
        "model_path = '/content/translator_model'\n",
        "model = MarianMTModel.from_pretrained(model_path)\n",
        "tokenizer = MarianTokenizer.from_pretrained(model_path)\n"
      ],
      "metadata": {
        "id": "s7bQwiCHN4Br"
      },
      "execution_count": null,
      "outputs": []
    },
    {
      "cell_type": "code",
      "source": [
        "def translate(text, target_lang):\n",
        "    # Prepare the inputs\n",
        "    inputs = tokenizer(text, return_tensors=\"pt\", padding=True, truncation=True)\n",
        "\n",
        "    # Generate translation\n",
        "    translated = model.generate(**inputs)\n",
        "\n",
        "    # Decode the translated text\n",
        "    tgt_text = tokenizer.decode(translated[0], skip_special_tokens=True)\n",
        "    return tgt_text\n"
      ],
      "metadata": {
        "id": "8WFtABOgN82k"
      },
      "execution_count": null,
      "outputs": []
    },
    {
      "cell_type": "code",
      "source": [
        "import ipywidgets as widgets\n",
        "from IPython.display import display\n",
        "\n",
        "# Define language options (use language codes that your model supports)\n",
        "language_options = {\n",
        "    'Hindi': 'hi',\n",
        "    'Bengali': 'bn',\n",
        "    'Telugu': 'te',\n",
        "    'Marathi': 'mr',\n",
        "    'Tamil': 'ta',\n",
        "    'Gujarati': 'gu',\n",
        "    'Malayalam': 'ml',\n",
        "    'Kannada': 'kn',\n",
        "    'Oriya': 'or',\n",
        "    'Punjabi': 'pa'\n",
        "}\n",
        "\n",
        "# Create widgets\n",
        "text_widget = widgets.Text(\n",
        "    description='Input Text:',\n",
        "    placeholder='Enter text here',\n",
        "    style={'description_width': 'initial'}\n",
        ")\n",
        "\n",
        "language_widget = widgets.Dropdown(\n",
        "    options=language_options,\n",
        "    description='Target Language:',\n",
        "    style={'description_width': 'initial'}\n",
        ")\n",
        "\n",
        "output_widget = widgets.Output()\n",
        "\n",
        "def on_button_click(b):\n",
        "    with output_widget:\n",
        "        # Clear previous output\n",
        "        output_widget.clear_output()\n",
        "\n",
        "        # Get the text and selected language\n",
        "        text = text_widget.value\n",
        "        target_lang = language_widget.value\n",
        "\n",
        "        if text and target_lang:\n",
        "            # Perform translation\n",
        "            translated_text = translate(text, target_lang)\n",
        "            print(f\"Original Text: {text}\")\n",
        "            print(f\"Translated Text: {translated_text}\")\n",
        "        else:\n",
        "            print(\"Please provide both input text and select a target language.\")\n",
        "\n",
        "# Create a button\n",
        "button = widgets.Button(description=\"Translate\")\n",
        "button.on_click(on_button_click)\n",
        "\n",
        "# Display widgets\n",
        "display(text_widget, language_widget, button, output_widget)\n"
      ],
      "metadata": {
        "colab": {
          "base_uri": "https://localhost:8080/",
          "height": 146,
          "referenced_widgets": [
            "2d6f822f1b3749919993835f77c1a70d",
            "04415a484a61414384b3f91599b3561c",
            "59b00c7088a24f969a904a7abd2f909c",
            "273042628769483c9aeeeca64d968ec2",
            "2a47bda7c928406b971c2e82da25dc3d",
            "3d5467fa415f497cbcd19003f1971ece",
            "346c178479a14c36a853ddb87f88d584",
            "8fa2c42b0e3c4e60868f65640cb61fbf",
            "f48aa14e8e214631b6074382f422c5de",
            "ce3fcdc5e9ad472e8ebf5037c7da03a2",
            "e089cb3154404e448a592fd5f23833c8"
          ]
        },
        "id": "oubrTBvPN_nb",
        "outputId": "716ff702-a3e0-4da0-a6e3-d0b5798c119f"
      },
      "execution_count": null,
      "outputs": [
        {
          "output_type": "display_data",
          "data": {
            "text/plain": [
              "Text(value='', description='Input Text:', placeholder='Enter text here', style=DescriptionStyle(description_wi…"
            ],
            "application/vnd.jupyter.widget-view+json": {
              "version_major": 2,
              "version_minor": 0,
              "model_id": "2d6f822f1b3749919993835f77c1a70d"
            }
          },
          "metadata": {}
        },
        {
          "output_type": "display_data",
          "data": {
            "text/plain": [
              "Dropdown(description='Target Language:', options={'Hindi': 'hi', 'Bengali': 'bn', 'Telugu': 'te', 'Marathi': '…"
            ],
            "application/vnd.jupyter.widget-view+json": {
              "version_major": 2,
              "version_minor": 0,
              "model_id": "273042628769483c9aeeeca64d968ec2"
            }
          },
          "metadata": {}
        },
        {
          "output_type": "display_data",
          "data": {
            "text/plain": [
              "Button(description='Translate', style=ButtonStyle())"
            ],
            "application/vnd.jupyter.widget-view+json": {
              "version_major": 2,
              "version_minor": 0,
              "model_id": "346c178479a14c36a853ddb87f88d584"
            }
          },
          "metadata": {}
        },
        {
          "output_type": "display_data",
          "data": {
            "text/plain": [
              "Output()"
            ],
            "application/vnd.jupyter.widget-view+json": {
              "version_major": 2,
              "version_minor": 0,
              "model_id": "ce3fcdc5e9ad472e8ebf5037c7da03a2"
            }
          },
          "metadata": {}
        }
      ]
    },
    {
      "cell_type": "markdown",
      "source": [
        "Complete Code to Zip and Download the Model"
      ],
      "metadata": {
        "id": "OCVvko38O0Sn"
      }
    },
    {
      "cell_type": "code",
      "source": [
        "from transformers import MarianMTModel, MarianTokenizer\n",
        "import shutil\n",
        "from google.colab import files\n",
        "\n",
        "# Define the path where the model and tokenizer will be saved\n",
        "model_path = '/content/translator_model'\n",
        "\n",
        "# Zip the model directory\n",
        "shutil.make_archive('/content/translator_model', 'zip', model_path)\n",
        "\n",
        "# Download the zip file\n",
        "files.download('/content/translator_model.zip')\n"
      ],
      "metadata": {
        "colab": {
          "base_uri": "https://localhost:8080/",
          "height": 34
        },
        "id": "67SZ6o-tOzy_",
        "outputId": "bd8a5205-fa26-4f87-bed7-f2d156380a25"
      },
      "execution_count": null,
      "outputs": [
        {
          "output_type": "display_data",
          "data": {
            "text/plain": [
              "<IPython.core.display.Javascript object>"
            ],
            "application/javascript": [
              "\n",
              "    async function download(id, filename, size) {\n",
              "      if (!google.colab.kernel.accessAllowed) {\n",
              "        return;\n",
              "      }\n",
              "      const div = document.createElement('div');\n",
              "      const label = document.createElement('label');\n",
              "      label.textContent = `Downloading \"${filename}\": `;\n",
              "      div.appendChild(label);\n",
              "      const progress = document.createElement('progress');\n",
              "      progress.max = size;\n",
              "      div.appendChild(progress);\n",
              "      document.body.appendChild(div);\n",
              "\n",
              "      const buffers = [];\n",
              "      let downloaded = 0;\n",
              "\n",
              "      const channel = await google.colab.kernel.comms.open(id);\n",
              "      // Send a message to notify the kernel that we're ready.\n",
              "      channel.send({})\n",
              "\n",
              "      for await (const message of channel.messages) {\n",
              "        // Send a message to notify the kernel that we're ready.\n",
              "        channel.send({})\n",
              "        if (message.buffers) {\n",
              "          for (const buffer of message.buffers) {\n",
              "            buffers.push(buffer);\n",
              "            downloaded += buffer.byteLength;\n",
              "            progress.value = downloaded;\n",
              "          }\n",
              "        }\n",
              "      }\n",
              "      const blob = new Blob(buffers, {type: 'application/binary'});\n",
              "      const a = document.createElement('a');\n",
              "      a.href = window.URL.createObjectURL(blob);\n",
              "      a.download = filename;\n",
              "      div.appendChild(a);\n",
              "      a.click();\n",
              "      div.remove();\n",
              "    }\n",
              "  "
            ]
          },
          "metadata": {}
        },
        {
          "output_type": "display_data",
          "data": {
            "text/plain": [
              "<IPython.core.display.Javascript object>"
            ],
            "application/javascript": [
              "download(\"download_4f6f885b-b3a1-42a7-a26d-882de04b5631\", \"translator_model.zip\", 288240060)"
            ]
          },
          "metadata": {}
        }
      ]
    }
  ],
  "metadata": {
    "colab": {
      "provenance": [],
      "authorship_tag": "ABX9TyPvVxa33NMpyhqym/jmwdc+",
      "include_colab_link": true
    },
    "kernelspec": {
      "display_name": "Python 3",
      "name": "python3"
    },
    "language_info": {
      "name": "python"
    },
    "widgets": {
      "application/vnd.jupyter.widget-state+json": {
        "d4b1d314703941da9a4d1157bcf3c35e": {
          "model_module": "@jupyter-widgets/controls",
          "model_name": "HBoxModel",
          "model_module_version": "1.5.0",
          "state": {
            "_dom_classes": [],
            "_model_module": "@jupyter-widgets/controls",
            "_model_module_version": "1.5.0",
            "_model_name": "HBoxModel",
            "_view_count": null,
            "_view_module": "@jupyter-widgets/controls",
            "_view_module_version": "1.5.0",
            "_view_name": "HBoxView",
            "box_style": "",
            "children": [
              "IPY_MODEL_c8948d7a5a3e46bf890efc8178fb646c",
              "IPY_MODEL_be7f11e604b04f199459e5fbb6f19373",
              "IPY_MODEL_caeeaa5a90b04c83b1166bc9f0b5cc2d"
            ],
            "layout": "IPY_MODEL_57df13f331c84e39bc2116f0c758f722"
          }
        },
        "c8948d7a5a3e46bf890efc8178fb646c": {
          "model_module": "@jupyter-widgets/controls",
          "model_name": "HTMLModel",
          "model_module_version": "1.5.0",
          "state": {
            "_dom_classes": [],
            "_model_module": "@jupyter-widgets/controls",
            "_model_module_version": "1.5.0",
            "_model_name": "HTMLModel",
            "_view_count": null,
            "_view_module": "@jupyter-widgets/controls",
            "_view_module_version": "1.5.0",
            "_view_name": "HTMLView",
            "description": "",
            "description_tooltip": null,
            "layout": "IPY_MODEL_c049b55871f54400befa480b94b69b80",
            "placeholder": "​",
            "style": "IPY_MODEL_180fbd007ee140099e8037e5ea35a1f7",
            "value": "Map: 100%"
          }
        },
        "be7f11e604b04f199459e5fbb6f19373": {
          "model_module": "@jupyter-widgets/controls",
          "model_name": "FloatProgressModel",
          "model_module_version": "1.5.0",
          "state": {
            "_dom_classes": [],
            "_model_module": "@jupyter-widgets/controls",
            "_model_module_version": "1.5.0",
            "_model_name": "FloatProgressModel",
            "_view_count": null,
            "_view_module": "@jupyter-widgets/controls",
            "_view_module_version": "1.5.0",
            "_view_name": "ProgressView",
            "bar_style": "success",
            "description": "",
            "description_tooltip": null,
            "layout": "IPY_MODEL_4850e1f793304501af83c7d4b60d1606",
            "max": 400,
            "min": 0,
            "orientation": "horizontal",
            "style": "IPY_MODEL_950b32f9dac74e4d87629c0d8fc7ed50",
            "value": 400
          }
        },
        "caeeaa5a90b04c83b1166bc9f0b5cc2d": {
          "model_module": "@jupyter-widgets/controls",
          "model_name": "HTMLModel",
          "model_module_version": "1.5.0",
          "state": {
            "_dom_classes": [],
            "_model_module": "@jupyter-widgets/controls",
            "_model_module_version": "1.5.0",
            "_model_name": "HTMLModel",
            "_view_count": null,
            "_view_module": "@jupyter-widgets/controls",
            "_view_module_version": "1.5.0",
            "_view_name": "HTMLView",
            "description": "",
            "description_tooltip": null,
            "layout": "IPY_MODEL_ef5d8679e0574739a9b4860c359c6895",
            "placeholder": "​",
            "style": "IPY_MODEL_d0c9a6f7dd8f45cf9eb73e8487f64156",
            "value": " 400/400 [00:00&lt;00:00, 1764.02 examples/s]"
          }
        },
        "57df13f331c84e39bc2116f0c758f722": {
          "model_module": "@jupyter-widgets/base",
          "model_name": "LayoutModel",
          "model_module_version": "1.2.0",
          "state": {
            "_model_module": "@jupyter-widgets/base",
            "_model_module_version": "1.2.0",
            "_model_name": "LayoutModel",
            "_view_count": null,
            "_view_module": "@jupyter-widgets/base",
            "_view_module_version": "1.2.0",
            "_view_name": "LayoutView",
            "align_content": null,
            "align_items": null,
            "align_self": null,
            "border": null,
            "bottom": null,
            "display": null,
            "flex": null,
            "flex_flow": null,
            "grid_area": null,
            "grid_auto_columns": null,
            "grid_auto_flow": null,
            "grid_auto_rows": null,
            "grid_column": null,
            "grid_gap": null,
            "grid_row": null,
            "grid_template_areas": null,
            "grid_template_columns": null,
            "grid_template_rows": null,
            "height": null,
            "justify_content": null,
            "justify_items": null,
            "left": null,
            "margin": null,
            "max_height": null,
            "max_width": null,
            "min_height": null,
            "min_width": null,
            "object_fit": null,
            "object_position": null,
            "order": null,
            "overflow": null,
            "overflow_x": null,
            "overflow_y": null,
            "padding": null,
            "right": null,
            "top": null,
            "visibility": null,
            "width": null
          }
        },
        "c049b55871f54400befa480b94b69b80": {
          "model_module": "@jupyter-widgets/base",
          "model_name": "LayoutModel",
          "model_module_version": "1.2.0",
          "state": {
            "_model_module": "@jupyter-widgets/base",
            "_model_module_version": "1.2.0",
            "_model_name": "LayoutModel",
            "_view_count": null,
            "_view_module": "@jupyter-widgets/base",
            "_view_module_version": "1.2.0",
            "_view_name": "LayoutView",
            "align_content": null,
            "align_items": null,
            "align_self": null,
            "border": null,
            "bottom": null,
            "display": null,
            "flex": null,
            "flex_flow": null,
            "grid_area": null,
            "grid_auto_columns": null,
            "grid_auto_flow": null,
            "grid_auto_rows": null,
            "grid_column": null,
            "grid_gap": null,
            "grid_row": null,
            "grid_template_areas": null,
            "grid_template_columns": null,
            "grid_template_rows": null,
            "height": null,
            "justify_content": null,
            "justify_items": null,
            "left": null,
            "margin": null,
            "max_height": null,
            "max_width": null,
            "min_height": null,
            "min_width": null,
            "object_fit": null,
            "object_position": null,
            "order": null,
            "overflow": null,
            "overflow_x": null,
            "overflow_y": null,
            "padding": null,
            "right": null,
            "top": null,
            "visibility": null,
            "width": null
          }
        },
        "180fbd007ee140099e8037e5ea35a1f7": {
          "model_module": "@jupyter-widgets/controls",
          "model_name": "DescriptionStyleModel",
          "model_module_version": "1.5.0",
          "state": {
            "_model_module": "@jupyter-widgets/controls",
            "_model_module_version": "1.5.0",
            "_model_name": "DescriptionStyleModel",
            "_view_count": null,
            "_view_module": "@jupyter-widgets/base",
            "_view_module_version": "1.2.0",
            "_view_name": "StyleView",
            "description_width": ""
          }
        },
        "4850e1f793304501af83c7d4b60d1606": {
          "model_module": "@jupyter-widgets/base",
          "model_name": "LayoutModel",
          "model_module_version": "1.2.0",
          "state": {
            "_model_module": "@jupyter-widgets/base",
            "_model_module_version": "1.2.0",
            "_model_name": "LayoutModel",
            "_view_count": null,
            "_view_module": "@jupyter-widgets/base",
            "_view_module_version": "1.2.0",
            "_view_name": "LayoutView",
            "align_content": null,
            "align_items": null,
            "align_self": null,
            "border": null,
            "bottom": null,
            "display": null,
            "flex": null,
            "flex_flow": null,
            "grid_area": null,
            "grid_auto_columns": null,
            "grid_auto_flow": null,
            "grid_auto_rows": null,
            "grid_column": null,
            "grid_gap": null,
            "grid_row": null,
            "grid_template_areas": null,
            "grid_template_columns": null,
            "grid_template_rows": null,
            "height": null,
            "justify_content": null,
            "justify_items": null,
            "left": null,
            "margin": null,
            "max_height": null,
            "max_width": null,
            "min_height": null,
            "min_width": null,
            "object_fit": null,
            "object_position": null,
            "order": null,
            "overflow": null,
            "overflow_x": null,
            "overflow_y": null,
            "padding": null,
            "right": null,
            "top": null,
            "visibility": null,
            "width": null
          }
        },
        "950b32f9dac74e4d87629c0d8fc7ed50": {
          "model_module": "@jupyter-widgets/controls",
          "model_name": "ProgressStyleModel",
          "model_module_version": "1.5.0",
          "state": {
            "_model_module": "@jupyter-widgets/controls",
            "_model_module_version": "1.5.0",
            "_model_name": "ProgressStyleModel",
            "_view_count": null,
            "_view_module": "@jupyter-widgets/base",
            "_view_module_version": "1.2.0",
            "_view_name": "StyleView",
            "bar_color": null,
            "description_width": ""
          }
        },
        "ef5d8679e0574739a9b4860c359c6895": {
          "model_module": "@jupyter-widgets/base",
          "model_name": "LayoutModel",
          "model_module_version": "1.2.0",
          "state": {
            "_model_module": "@jupyter-widgets/base",
            "_model_module_version": "1.2.0",
            "_model_name": "LayoutModel",
            "_view_count": null,
            "_view_module": "@jupyter-widgets/base",
            "_view_module_version": "1.2.0",
            "_view_name": "LayoutView",
            "align_content": null,
            "align_items": null,
            "align_self": null,
            "border": null,
            "bottom": null,
            "display": null,
            "flex": null,
            "flex_flow": null,
            "grid_area": null,
            "grid_auto_columns": null,
            "grid_auto_flow": null,
            "grid_auto_rows": null,
            "grid_column": null,
            "grid_gap": null,
            "grid_row": null,
            "grid_template_areas": null,
            "grid_template_columns": null,
            "grid_template_rows": null,
            "height": null,
            "justify_content": null,
            "justify_items": null,
            "left": null,
            "margin": null,
            "max_height": null,
            "max_width": null,
            "min_height": null,
            "min_width": null,
            "object_fit": null,
            "object_position": null,
            "order": null,
            "overflow": null,
            "overflow_x": null,
            "overflow_y": null,
            "padding": null,
            "right": null,
            "top": null,
            "visibility": null,
            "width": null
          }
        },
        "d0c9a6f7dd8f45cf9eb73e8487f64156": {
          "model_module": "@jupyter-widgets/controls",
          "model_name": "DescriptionStyleModel",
          "model_module_version": "1.5.0",
          "state": {
            "_model_module": "@jupyter-widgets/controls",
            "_model_module_version": "1.5.0",
            "_model_name": "DescriptionStyleModel",
            "_view_count": null,
            "_view_module": "@jupyter-widgets/base",
            "_view_module_version": "1.2.0",
            "_view_name": "StyleView",
            "description_width": ""
          }
        },
        "2d6f822f1b3749919993835f77c1a70d": {
          "model_module": "@jupyter-widgets/controls",
          "model_name": "TextModel",
          "model_module_version": "1.5.0",
          "state": {
            "_dom_classes": [],
            "_model_module": "@jupyter-widgets/controls",
            "_model_module_version": "1.5.0",
            "_model_name": "TextModel",
            "_view_count": null,
            "_view_module": "@jupyter-widgets/controls",
            "_view_module_version": "1.5.0",
            "_view_name": "TextView",
            "continuous_update": true,
            "description": "Input Text:",
            "description_tooltip": null,
            "disabled": false,
            "layout": "IPY_MODEL_04415a484a61414384b3f91599b3561c",
            "placeholder": "Enter text here",
            "style": "IPY_MODEL_59b00c7088a24f969a904a7abd2f909c",
            "value": "Hello"
          }
        },
        "04415a484a61414384b3f91599b3561c": {
          "model_module": "@jupyter-widgets/base",
          "model_name": "LayoutModel",
          "model_module_version": "1.2.0",
          "state": {
            "_model_module": "@jupyter-widgets/base",
            "_model_module_version": "1.2.0",
            "_model_name": "LayoutModel",
            "_view_count": null,
            "_view_module": "@jupyter-widgets/base",
            "_view_module_version": "1.2.0",
            "_view_name": "LayoutView",
            "align_content": null,
            "align_items": null,
            "align_self": null,
            "border": null,
            "bottom": null,
            "display": null,
            "flex": null,
            "flex_flow": null,
            "grid_area": null,
            "grid_auto_columns": null,
            "grid_auto_flow": null,
            "grid_auto_rows": null,
            "grid_column": null,
            "grid_gap": null,
            "grid_row": null,
            "grid_template_areas": null,
            "grid_template_columns": null,
            "grid_template_rows": null,
            "height": null,
            "justify_content": null,
            "justify_items": null,
            "left": null,
            "margin": null,
            "max_height": null,
            "max_width": null,
            "min_height": null,
            "min_width": null,
            "object_fit": null,
            "object_position": null,
            "order": null,
            "overflow": null,
            "overflow_x": null,
            "overflow_y": null,
            "padding": null,
            "right": null,
            "top": null,
            "visibility": null,
            "width": null
          }
        },
        "59b00c7088a24f969a904a7abd2f909c": {
          "model_module": "@jupyter-widgets/controls",
          "model_name": "DescriptionStyleModel",
          "model_module_version": "1.5.0",
          "state": {
            "_model_module": "@jupyter-widgets/controls",
            "_model_module_version": "1.5.0",
            "_model_name": "DescriptionStyleModel",
            "_view_count": null,
            "_view_module": "@jupyter-widgets/base",
            "_view_module_version": "1.2.0",
            "_view_name": "StyleView",
            "description_width": "initial"
          }
        },
        "273042628769483c9aeeeca64d968ec2": {
          "model_module": "@jupyter-widgets/controls",
          "model_name": "DropdownModel",
          "model_module_version": "1.5.0",
          "state": {
            "_dom_classes": [],
            "_model_module": "@jupyter-widgets/controls",
            "_model_module_version": "1.5.0",
            "_model_name": "DropdownModel",
            "_options_labels": [
              "Hindi",
              "Bengali",
              "Telugu",
              "Marathi",
              "Tamil",
              "Gujarati",
              "Malayalam",
              "Kannada",
              "Oriya",
              "Punjabi"
            ],
            "_view_count": null,
            "_view_module": "@jupyter-widgets/controls",
            "_view_module_version": "1.5.0",
            "_view_name": "DropdownView",
            "description": "Target Language:",
            "description_tooltip": null,
            "disabled": false,
            "index": 4,
            "layout": "IPY_MODEL_2a47bda7c928406b971c2e82da25dc3d",
            "style": "IPY_MODEL_3d5467fa415f497cbcd19003f1971ece"
          }
        },
        "2a47bda7c928406b971c2e82da25dc3d": {
          "model_module": "@jupyter-widgets/base",
          "model_name": "LayoutModel",
          "model_module_version": "1.2.0",
          "state": {
            "_model_module": "@jupyter-widgets/base",
            "_model_module_version": "1.2.0",
            "_model_name": "LayoutModel",
            "_view_count": null,
            "_view_module": "@jupyter-widgets/base",
            "_view_module_version": "1.2.0",
            "_view_name": "LayoutView",
            "align_content": null,
            "align_items": null,
            "align_self": null,
            "border": null,
            "bottom": null,
            "display": null,
            "flex": null,
            "flex_flow": null,
            "grid_area": null,
            "grid_auto_columns": null,
            "grid_auto_flow": null,
            "grid_auto_rows": null,
            "grid_column": null,
            "grid_gap": null,
            "grid_row": null,
            "grid_template_areas": null,
            "grid_template_columns": null,
            "grid_template_rows": null,
            "height": null,
            "justify_content": null,
            "justify_items": null,
            "left": null,
            "margin": null,
            "max_height": null,
            "max_width": null,
            "min_height": null,
            "min_width": null,
            "object_fit": null,
            "object_position": null,
            "order": null,
            "overflow": null,
            "overflow_x": null,
            "overflow_y": null,
            "padding": null,
            "right": null,
            "top": null,
            "visibility": null,
            "width": null
          }
        },
        "3d5467fa415f497cbcd19003f1971ece": {
          "model_module": "@jupyter-widgets/controls",
          "model_name": "DescriptionStyleModel",
          "model_module_version": "1.5.0",
          "state": {
            "_model_module": "@jupyter-widgets/controls",
            "_model_module_version": "1.5.0",
            "_model_name": "DescriptionStyleModel",
            "_view_count": null,
            "_view_module": "@jupyter-widgets/base",
            "_view_module_version": "1.2.0",
            "_view_name": "StyleView",
            "description_width": "initial"
          }
        },
        "346c178479a14c36a853ddb87f88d584": {
          "model_module": "@jupyter-widgets/controls",
          "model_name": "ButtonModel",
          "model_module_version": "1.5.0",
          "state": {
            "_dom_classes": [],
            "_model_module": "@jupyter-widgets/controls",
            "_model_module_version": "1.5.0",
            "_model_name": "ButtonModel",
            "_view_count": null,
            "_view_module": "@jupyter-widgets/controls",
            "_view_module_version": "1.5.0",
            "_view_name": "ButtonView",
            "button_style": "",
            "description": "Translate",
            "disabled": false,
            "icon": "",
            "layout": "IPY_MODEL_8fa2c42b0e3c4e60868f65640cb61fbf",
            "style": "IPY_MODEL_f48aa14e8e214631b6074382f422c5de",
            "tooltip": ""
          }
        },
        "8fa2c42b0e3c4e60868f65640cb61fbf": {
          "model_module": "@jupyter-widgets/base",
          "model_name": "LayoutModel",
          "model_module_version": "1.2.0",
          "state": {
            "_model_module": "@jupyter-widgets/base",
            "_model_module_version": "1.2.0",
            "_model_name": "LayoutModel",
            "_view_count": null,
            "_view_module": "@jupyter-widgets/base",
            "_view_module_version": "1.2.0",
            "_view_name": "LayoutView",
            "align_content": null,
            "align_items": null,
            "align_self": null,
            "border": null,
            "bottom": null,
            "display": null,
            "flex": null,
            "flex_flow": null,
            "grid_area": null,
            "grid_auto_columns": null,
            "grid_auto_flow": null,
            "grid_auto_rows": null,
            "grid_column": null,
            "grid_gap": null,
            "grid_row": null,
            "grid_template_areas": null,
            "grid_template_columns": null,
            "grid_template_rows": null,
            "height": null,
            "justify_content": null,
            "justify_items": null,
            "left": null,
            "margin": null,
            "max_height": null,
            "max_width": null,
            "min_height": null,
            "min_width": null,
            "object_fit": null,
            "object_position": null,
            "order": null,
            "overflow": null,
            "overflow_x": null,
            "overflow_y": null,
            "padding": null,
            "right": null,
            "top": null,
            "visibility": null,
            "width": null
          }
        },
        "f48aa14e8e214631b6074382f422c5de": {
          "model_module": "@jupyter-widgets/controls",
          "model_name": "ButtonStyleModel",
          "model_module_version": "1.5.0",
          "state": {
            "_model_module": "@jupyter-widgets/controls",
            "_model_module_version": "1.5.0",
            "_model_name": "ButtonStyleModel",
            "_view_count": null,
            "_view_module": "@jupyter-widgets/base",
            "_view_module_version": "1.2.0",
            "_view_name": "StyleView",
            "button_color": null,
            "font_weight": ""
          }
        },
        "ce3fcdc5e9ad472e8ebf5037c7da03a2": {
          "model_module": "@jupyter-widgets/output",
          "model_name": "OutputModel",
          "model_module_version": "1.0.0",
          "state": {
            "_dom_classes": [],
            "_model_module": "@jupyter-widgets/output",
            "_model_module_version": "1.0.0",
            "_model_name": "OutputModel",
            "_view_count": null,
            "_view_module": "@jupyter-widgets/output",
            "_view_module_version": "1.0.0",
            "_view_name": "OutputView",
            "layout": "IPY_MODEL_e089cb3154404e448a592fd5f23833c8",
            "msg_id": "",
            "outputs": [
              {
                "output_type": "stream",
                "name": "stdout",
                "text": [
                  "Original Text: Hello\n",
                  "Translated Text: ????????\n"
                ]
              }
            ]
          }
        },
        "e089cb3154404e448a592fd5f23833c8": {
          "model_module": "@jupyter-widgets/base",
          "model_name": "LayoutModel",
          "model_module_version": "1.2.0",
          "state": {
            "_model_module": "@jupyter-widgets/base",
            "_model_module_version": "1.2.0",
            "_model_name": "LayoutModel",
            "_view_count": null,
            "_view_module": "@jupyter-widgets/base",
            "_view_module_version": "1.2.0",
            "_view_name": "LayoutView",
            "align_content": null,
            "align_items": null,
            "align_self": null,
            "border": null,
            "bottom": null,
            "display": null,
            "flex": null,
            "flex_flow": null,
            "grid_area": null,
            "grid_auto_columns": null,
            "grid_auto_flow": null,
            "grid_auto_rows": null,
            "grid_column": null,
            "grid_gap": null,
            "grid_row": null,
            "grid_template_areas": null,
            "grid_template_columns": null,
            "grid_template_rows": null,
            "height": null,
            "justify_content": null,
            "justify_items": null,
            "left": null,
            "margin": null,
            "max_height": null,
            "max_width": null,
            "min_height": null,
            "min_width": null,
            "object_fit": null,
            "object_position": null,
            "order": null,
            "overflow": null,
            "overflow_x": null,
            "overflow_y": null,
            "padding": null,
            "right": null,
            "top": null,
            "visibility": null,
            "width": null
          }
        }
      }
    }
  },
  "nbformat": 4,
  "nbformat_minor": 0
}